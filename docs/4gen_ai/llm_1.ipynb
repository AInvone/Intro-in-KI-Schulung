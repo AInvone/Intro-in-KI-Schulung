{
 "cells": [
  {
   "cell_type": "markdown",
   "id": "11bb4456-5dc2-440c-9320-4af43e032aeb",
   "metadata": {},
   "source": [
    "# Hands-on Beispiel LLM (1)"
   ]
  },
  {
   "cell_type": "markdown",
   "id": "47a74c0f-6038-4871-9038-df59a4be02a1",
   "metadata": {},
   "source": [
    "### 1. Baseline - Juristische Fragen an ein untrainiertes Modell (Lokale LLM)\n",
    "In diesem Abschnitt laden wir das Modell `dbmdz/german-gpt2` und stellen ihm zwei juristische Fragen zum AI Act.Da das Modell noch nicht mit AI Act-spezifischen Texten feingetunt wurde, sind die Antworten vermutlich unzureichend.\n"
   ]
  },
  {
   "cell_type": "code",
   "execution_count": 1,
   "id": "8f0f45fe-361d-4965-a821-e69419fced67",
   "metadata": {},
   "outputs": [],
   "source": [
    "# falls noch nicht installiert \n",
    "\n",
    "import sys\n",
    "# !{sys.executable} -m pip install transformers datasets\n",
    "# !{sys.executable} -m pip install 'accelerate>=0.26.0'\n"
   ]
  },
  {
   "cell_type": "code",
   "execution_count": 1,
   "id": "9f565816-f407-4a0b-9696-e4c3cbd55939",
   "metadata": {},
   "outputs": [
    {
     "name": "stderr",
     "output_type": "stream",
     "text": [
      "/Users/minye/Library/Python/3.9/lib/python/site-packages/urllib3/__init__.py:34: NotOpenSSLWarning: urllib3 v2.0 only supports OpenSSL 1.1.1+, currently the 'ssl' module is compiled with 'LibreSSL 2.8.3'. See: https://github.com/urllib3/urllib3/issues/3020\n",
      "  warnings.warn(\n",
      "/Users/minye/Library/Python/3.9/lib/python/site-packages/tqdm/auto.py:21: TqdmWarning: IProgress not found. Please update jupyter and ipywidgets. See https://ipywidgets.readthedocs.io/en/stable/user_install.html\n",
      "  from .autonotebook import tqdm as notebook_tqdm\n"
     ]
    }
   ],
   "source": [
    "# Importiere die benötigten Bibliotheken\n",
    "import torch\n",
    "from transformers import AutoTokenizer, AutoModelForCausalLM"
   ]
  },
  {
   "cell_type": "code",
   "execution_count": 7,
   "id": "8813329a-0179-43bf-8187-aef811581782",
   "metadata": {},
   "outputs": [],
   "source": [
    "# Lade das deutschsprachige Modell und den zugehörigen Tokenizer\n",
    "\n",
    "model_name = \"dbmdz/german-gpt2\" \n",
    "tokenizer = AutoTokenizer.from_pretrained(model_name)\n",
    "model = AutoModelForCausalLM.from_pretrained(model_name)\n",
    "model = model.bfloat16()\n",
    "\n",
    "# Konfiguriere pad_token_id im Modell \n",
    "# (braucht man, wenn das Modell noch nicht standardmäßig für den Umgang mit dem Padding-Token eingestellt ist)\n",
    "model.config.pad_token_id = tokenizer.eos_token_id\n",
    "model.generation_config.pad_token_id = tokenizer.pad_token_id\n",
    "model.eval()\n",
    "\n",
    "# Da GPT-2-Modelle oft keinen expliziten Padding-Token besitzen, setzen wir hier den EOS-Token als Padding-Token.\n",
    "tokenizer.pad_token = tokenizer.eos_token\n"
   ]
  },
  {
   "cell_type": "code",
   "execution_count": 8,
   "id": "7bdcce7c-a43c-4f25-ae2a-fb5a00ea6f35",
   "metadata": {},
   "outputs": [],
   "source": [
    "def ask_question(prompt):\n",
    "    # Tokenisiere den Input inklusive Attention-Maske\n",
    "    encoded = tokenizer(prompt, return_tensors=\"pt\")\n",
    "    input_ids = encoded[\"input_ids\"]\n",
    "    attention_mask = encoded[\"attention_mask\"]\n",
    "    \n",
    "    # Generiere eine Antwort unter Verwendung der Attention-Maske\n",
    "    output = model.generate(\n",
    "        input_ids,\n",
    "        attention_mask=attention_mask,\n",
    "        max_length=150,\n",
    "        temperature=0.7,\n",
    "        do_sample=True\n",
    "    )\n",
    "    generated_text = tokenizer.decode(output[0], skip_special_tokens=True)\n",
    "    return generated_text"
   ]
  },
  {
   "cell_type": "code",
   "execution_count": 9,
   "id": "5c644acf-e8b1-4193-9589-092d451dd6ed",
   "metadata": {},
   "outputs": [],
   "source": [
    "# Liste juristischer Fragen, bei denen Wissen aus dem AI Act abgefragt wird\n",
    "questions = [\n",
    "    \"Welche Anforderungen stellt der AI Act an Hochrisiko-KI-Systeme?\",\n",
    "    \"Was versteht man unter Transparenz gemäß dem AI Act?\"\n",
    "]"
   ]
  },
  {
   "cell_type": "code",
   "execution_count": 11,
   "id": "d6e1504b-2075-4b1a-82c4-f8c760c83272",
   "metadata": {},
   "outputs": [
    {
     "name": "stderr",
     "output_type": "stream",
     "text": [
      "Setting `pad_token_id` to `eos_token_id`:50256 for open-end generation.\n"
     ]
    },
    {
     "name": "stdout",
     "output_type": "stream",
     "text": [
      "=== llm-1: Untrainiertes Modell ===\n",
      "\n",
      "Frage: Welche Anforderungen stellt der AI Act an Hochrisiko-KI-Systeme?\n",
      "\n"
     ]
    },
    {
     "name": "stderr",
     "output_type": "stream",
     "text": [
      "Setting `pad_token_id` to `eos_token_id`:50256 for open-end generation.\n"
     ]
    },
    {
     "name": "stdout",
     "output_type": "stream",
     "text": [
      "Antwort: Welche Anforderungen stellt der AI Act an Hochrisiko-KI-Systeme?\n",
      "Vor der WM-Vorbereitung hatte es auf Schalke ein wenig gekracht.\n",
      "Für die kommenden Tage ist es laut Prognose des Deutschen Wetterdienstes (DWD) in Sachsen-Anhalt ein Tiefdruckgebiet mit kräftiger Böe. (mz)\n",
      "Die beiden Fahrer wurden durch den Unfall und den Sturz leicht verletzt.\n",
      "Denn die ist so alt wie die.\n",
      "Es gibt nur einen einzigen Hersteller, das sind die Hersteller von Motorrollern.\n",
      "Man wolle den \"Standpunkt des Rechtspopulismus nicht preisgeben\", sagte der SPD-Innenpolitiker Burkhard Lischka dem Evangelischen Pressedienst (epd).\n",
      "Die Mannschaft von Trainer Tayfun Korkut hat am Sonntag in\n",
      "--------------------------------------------------------------------------------------------------------------------------------------------------------------------------------------------------------------------------------------------------------------------------------------------------------------------------------------------------------------------------------------------------------------------------------------------------------------------------------------------------------------------\n",
      "Frage: Was versteht man unter Transparenz gemäß dem AI Act?\n",
      "\n",
      "Antwort: Was versteht man unter Transparenz gemäß dem AI Act?\n",
      "Wir können die Transparenz gemäss dem AI Act sehr gut in die Politik einbinden.\n",
      "In diesem Sinne möchten wir die Transparenz unserer Arbeit erhöhen und die Interessen unserer Kunden besser wahrnehmen.\n",
      "Alyes E. wurde in den 60er Jahren in Bulgarien geboren.\n",
      "Während seiner Kindheit, die durch schwere Naturkatastrophen geprägt war, war er in der Forstwirtschaft beschäftigt.\n",
      "Nach dem Abschluss der Grundschule begann er eine Lehre zum Forsttechniker.\n",
      "Er machte eine Ausbildung zum Lehrer und war dann einige Jahre lang in diesem Beruf tätig.\n",
      "Danach arbeitete er als Postangestellter und war für den Aufbau einer eigenen Forstwirtschaft in Serbien verantwortlich.\n",
      "Nachdem er im Anschluss an seine Ausbildung einige Jahre lang als Lehrer gearbeitet\n",
      "--------------------------------------------------------------------------------------------------------------------------------------------------------------------------------------------------------------------------------------------------------------------------------------------------------------------------------------------------------------------------------------------------------------------------------------------------------------------------------------------------------------------\n"
     ]
    }
   ],
   "source": [
    "# Fragen stellen und Antworten ausgeben\n",
    "print(\"=== llm-1: Untrainiertes Modell ===\\n\")\n",
    "for q in questions:\n",
    "    print(\"Frage:\", q)\n",
    "    print() \n",
    "    answer = ask_question(q)\n",
    "    print(\"Antwort:\", answer)\n",
    "    print(\"-\" * 500)"
   ]
  },
  {
   "cell_type": "code",
   "execution_count": null,
   "id": "c9288cc6-bf6d-4dea-a92d-798a795328cd",
   "metadata": {},
   "outputs": [],
   "source": []
  },
  {
   "cell_type": "code",
   "execution_count": null,
   "id": "620a50dc-353c-4536-9858-7a9847888aa5",
   "metadata": {},
   "outputs": [],
   "source": []
  }
 ],
 "metadata": {
  "kernelspec": {
   "display_name": "Python 3 (ipykernel)",
   "language": "python",
   "name": "python3"
  },
  "language_info": {
   "codemirror_mode": {
    "name": "ipython",
    "version": 3
   },
   "file_extension": ".py",
   "mimetype": "text/x-python",
   "name": "python",
   "nbconvert_exporter": "python",
   "pygments_lexer": "ipython3",
   "version": "3.9.6"
  }
 },
 "nbformat": 4,
 "nbformat_minor": 5
}
